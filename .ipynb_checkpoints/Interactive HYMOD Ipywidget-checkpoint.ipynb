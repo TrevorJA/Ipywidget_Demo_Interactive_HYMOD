{
 "cells": [
  {
   "cell_type": "markdown",
   "id": "80c315b4",
   "metadata": {},
   "source": [
    "# HYMOD Demonstration with interactive widget:\n",
    "\n",
    "This Jupyter Notebook is designed to highlight the use of the **Ipywidget** tools for educational and exploratory modeling. Here, a demonstration of the widget is provided.  \n",
    "\n",
    "All of the source code used to generate the widget is available in a GitHub repository: [Ipywidget_Demo_Interactive_HYMOD](https://github.com/TrevorJA/Ipywidget_Demo_Interactive_HYMOD).\n",
    "\n",
    "Before the this script will work, you will need to install **Ipywidgets** on your local machine. \n",
    "\n",
    "If you are using the **pip** package manager, install Ipywidgets from your local python terminal using:\n",
    "\n",
    "> pip install ipywidgets\n",
    "\n",
    "If you are using conda, enter:\n",
    "\n",
    ">conda install -c conda-forge ipywidgets"
   ]
  },
  {
   "cell_type": "markdown",
   "id": "e80f2a75",
   "metadata": {},
   "source": [
    "## HYMOD Introduction\n",
    "\n",
    "HYMOD is a conceptual rainfall-runoff model. Given some observed precipitation and evaporation, a parameterized HYMOD model simulates the resulting down-basin runoff. \n",
    "\n",
    "This post does not focus on specific properties or performance of the HYMOD model, but rather uses the model as a demonstration of the utility of the Ipywidget library.  \n",
    "\n",
    "I chose to use the HYMOD model for this, because the HYMOD model is commonly taught in introductory hydrologic modeling courses. This demonstration shows how an Ipywidget can be used in an educational context. The resulting widget can allow students to interact in real-time with the model behavior, by adjusting parameter values and visualizing the changes in the resulted streamflow.\n",
    "\n",
    "If you are interested in the technical details of implementing the HYMOD model, you can dig into the source code, available (and throughly commented/descriptive) in the repository for this post: [Ipywidget_Demo_Interactive_HYMOD](https://github.com/TrevorJA/Ipywidget_Demo_Interactive_HYMOD).\n",
    "\n",
    "HYMOD represents surface flow as a series of several *quick-flow* reservoirs. Groundwater flow is represented as a single *slow-flow* reservoir. The reservoirs have constant flow rates, with the quick-flow reservoir rate, *Kq*, being greater than the slow-flow reservoir rate, *Ks*. \n",
    "\n",
    "\n",
    "<img src = \"HYMOD_graphic_Wenchao_etal_2010.png\" width = \"75%\">\n",
    "\n",
    "**Image source:** [Sun, Wenchao & Ishidaira, Hiroshi & Bastola, Satish. (2010)](https://www.researchgate.net/publication/45146765_Towards_improving_river_discharge_estimation_in_ungauged_basins_Calibration_of_rainfall-runoff_models_based_on_satellite_observations_of_river_flow_width_at_basin_outlet)\n",
    "\n",
    "\n",
    "### HYMOD Parameters:\n",
    "\n",
    "Like any hydrologic model, the performance of HYMOD will be dependent upon the specified parameter values. There are several parameters that can be adjusted:\n",
    "\n",
    "* Cmax: Max soil moisture storage (mm) [10-2000]\n",
    "\n",
    "* B: Distribution of soil stores [0.0 - 7.0]\n",
    "\n",
    "* Alpha: Division between quick/slow routing [0.0 - 1.0]\n",
    "\n",
    "* Kq: Quick flow reservoir rate constant (day^-1) [0.15 - 1.0]\n",
    "\n",
    "* Ks: Slow flow reservoir rate constant. (day^-1) [0.0 - 0.15]\n",
    "\n",
    "* N: The number of quick-flow reservoirs. \n",
    "\n",
    "\n",
    "\n",
    "### Interactive widget demonstration\n",
    "\n",
    "I've constructed an Ipywidets object which allows a user to visualize the impact of the HYMOD model parameters on the resulting simulation timeseries. The user also has the option to select from three different error metrics, which display in the plot, and toggle the observed timeseries plot on and off. \n",
    "\n",
    "Later in this post, I will give detail on how the widget was created.  \n",
    "\n",
    "Before provided the detail, I want to show the widget in action so that you know the expectation for the final product.  \n",
    "\n",
    "Run the cell below, and play around with the widget optionality!"
   ]
  },
  {
   "cell_type": "code",
   "execution_count": 10,
   "id": "05c7ce66",
   "metadata": {},
   "outputs": [
    {
     "data": {
      "application/vnd.jupyter.widget-view+json": {
       "model_id": "58e8aad7308c4d9b8892f0dbb8f95915",
       "version_major": 2,
       "version_minor": 0
      },
      "text/plain": [
       "VBox(children=(Label(value='Select parameter values for the HYMOD model:'), HBox(children=(VBox(children=(Labe…"
      ]
     },
     "metadata": {},
     "output_type": "display_data"
    }
   ],
   "source": [
    "# Import the widget from an external script\n",
    "from generate_HYMOD_widget import make_HYMOD_widget\n",
    "\n",
    "# Generate the widget (this may take a few seconds to load)\n",
    "make_HYMOD_widget()"
   ]
  },
  {
   "cell_type": "markdown",
   "id": "eaf10e39",
   "metadata": {},
   "source": [
    "## Ipywidgets Introduction\n",
    "\n",
    "The Ipywdiget library allows for highly customized widgets, like the one above.  As with any new tool, I'd recommend you check out the documentation [here](https://ipywidgets.readthedocs.io/en/stable/). \n",
    "\n",
    "Below, I walk through the process of generating the widget shown above.\n",
    "\n",
    "Lets begin!"
   ]
  },
  {
   "cell_type": "code",
   "execution_count": 44,
   "id": "68f17248",
   "metadata": {},
   "outputs": [],
   "source": [
    "# Import the library\n",
    "import ipywidgets as widgets"
   ]
  },
  {
   "cell_type": "markdown",
   "id": "daa546cc",
   "metadata": {},
   "source": [
    "## Basic widget components\n",
    "\n",
    "Consider an Ipywidget as being an arrangement of modular components. \n",
    "\n",
    "The tutorial walks through the construction of five key widget components:\n",
    "1. Variable slider\n",
    "2. Drop-down selectors\n",
    "3. Toggle buttons\n",
    "4. Label objects\n",
    "5. Interactive outputs (used to connect the plot to the other three components)\n",
    "\n",
    "In the last section, I show how all of these components can be arranged together to construct the unified widget.\n",
    "\n",
    "\n",
    "### Sliders\n",
    "\n",
    "Sliders are one of the most common ipywidet tools. They allow for manual manipulation of a variable value. The slider is an object that can be passed to the interactive widget (more on this further down).  \n",
    "\n",
    "For my HYMOD widget, I would like to be able to manipulate each of the model parameters listed above. I begin by constructing a slider object for each of the variables.\n",
    "\n",
    "\n",
    "Here is an example, for the *C_max* variable:"
   ]
  },
  {
   "cell_type": "code",
   "execution_count": 45,
   "id": "69f80dfc",
   "metadata": {},
   "outputs": [
    {
     "data": {
      "application/vnd.jupyter.widget-view+json": {
       "model_id": "8932fbbadf6c427287be7a73eddeaf11",
       "version_major": 2,
       "version_minor": 0
      },
      "text/plain": [
       "FloatSlider(value=500.0, continuous_update=False, description='C_max', max=2000.0, min=10.0, readout_format='0…"
      ]
     },
     "metadata": {},
     "output_type": "display_data"
    }
   ],
   "source": [
    "# Construct the slider\n",
    "Cmax_slider = widgets.FloatSlider(value = 500, min = 10, max = 2000, step = 1.0, description = \"C_max\",\n",
    "                                  disabled = False, continuous_update = False, readout = True, readout_format = '0.2f')\n",
    "\n",
    "\n",
    "# Display the slider\n",
    "display(Cmax_slider)"
   ]
  },
  {
   "cell_type": "markdown",
   "id": "fc01882a",
   "metadata": {},
   "source": [
    "Notice that each slider recieves a specified *min*, *max*, and *step* corresponding to the possible values. For the HYMOD demo, I am using the parameter ranges specified in [Herman, J.D., P.M. Reed, and T. Wagener (2013), Time-varying sensitivity analysis clarifies the effects of watershed model formulation on model behavior.](https://agupubs.onlinelibrary.wiley.com/doi/full/10.1002/wrcr.20124)\n",
    "\n",
    "I will construct the sliders for the remaining parameters below. *Notice* that I don't assign the description parameter in any of these sliders... this is intentional. Later in this tutorial I will show how to arrange the sliders with Label() objects for a cleaner widget design."
   ]
  },
  {
   "cell_type": "code",
   "execution_count": 47,
   "id": "be3949a5",
   "metadata": {},
   "outputs": [],
   "source": [
    "# Construct remaining sliders\n",
    "Cmax_slider = widgets.FloatSlider(value = 100, min = 10, max = 2000, step = 1.0, disabled = False, continuous_update = False, readout = True, readout_format = '0.2f')\n",
    "B_slider = widgets.FloatSlider(value = 2.0, min = 0.0, max = 7.0, step = 0.1, disabled = False, continuous_update = False, readout = True, readout_format = '0.2f')\n",
    "Alpha_slider = widgets.FloatSlider(value = 0.30, min = 0.00, max = 1.00, step = 0.01, disabled = False, continuous_update = False, readout = True, readout_format = '0.2f')\n",
    "Kq_slider = widgets.FloatSlider(value = 0.33, min = 0.15, max = 1.00, step = 0.01, disabled = False, continuous_update = False, readout = True, readout_format = '0.2f')\n",
    "Ks_slider = widgets.FloatSlider(value = 0.07, min = 0.00, max = 0.15, step = 0.01, disabled = False, continuous_update = False, readout = True, readout_format = '0.2f')\n",
    "N_slider = widgets.IntSlider(value = 3, min = 2, max = 7, disabled = False, continuous_update = False, readout = True)\n",
    "\n",
    "# Place all sliders in a list\n",
    "list_of_sliders = [Kq_slider, Ks_slider, Cmax_slider, B_slider, Alpha_slider, N_slider]"
   ]
  },
  {
   "cell_type": "markdown",
   "id": "c68e1fc3",
   "metadata": {},
   "source": [
    "### Dropdown\n",
    "\n",
    "The Dropdown() allows the user to select from a set of discrete variable options.  Here, I want to give the user options on which error metric to use when comparing simulated and observed timeseries. \n",
    "\n",
    "I provide three options:\n",
    "1. RMSE: Root mean square error\n",
    "2. NSE: Nash Sutcliffe efficiency\n",
    "3. ROCE: Runoff coefficient error\n",
    "\n",
    "See the *calculate_error_by_type* inside the [HYMOD_components.py script](https://github.com/TrevorJA/Ipywidget_Demo_Interactive_HYMOD/blob/main/HYMOD_components.py) to see how these are calculated. \n",
    "\n",
    "To provide this functionality, I define the Dropdown() object, as below, with a list of options and the initial value:"
   ]
  },
  {
   "cell_type": "code",
   "execution_count": 48,
   "id": "a4c5ea14",
   "metadata": {},
   "outputs": [
    {
     "data": {
      "application/vnd.jupyter.widget-view+json": {
       "model_id": "3d27df17ee834d148e99924d740eebdf",
       "version_major": 2,
       "version_minor": 0
      },
      "text/plain": [
       "Dropdown(options=('RMSE', 'NSE', 'ROCE'), value='RMSE')"
      ]
     },
     "metadata": {},
     "output_type": "display_data"
    }
   ],
   "source": [
    "# Construct the drop-down to select from different error metrics\n",
    "drop_down = widgets.Dropdown(options=['RMSE','NSE','ROCE'], description='',\n",
    "                                value = 'RMSE', disabled = False)\n",
    "\n",
    "# Display the drop-down\n",
    "display(drop_down)"
   ]
  },
  {
   "cell_type": "markdown",
   "id": "b274fa84",
   "metadata": {},
   "source": [
    "### ToggleButton\n",
    "\n",
    "The ToggleButton() allows for a bool variable to be toggled between True and False. For my streamflow plot function, I have an option *plot_observed = False* which determines if the observed streamflow timeseries is shown in the figure. \n",
    "\n"
   ]
  },
  {
   "cell_type": "code",
   "execution_count": 8,
   "id": "512f3bdb",
   "metadata": {},
   "outputs": [
    {
     "data": {
      "application/vnd.jupyter.widget-view+json": {
       "model_id": "b73f91a86474419a86b18373b2a7c1a8",
       "version_major": 2,
       "version_minor": 0
      },
      "text/plain": [
       "ToggleButton(value=False, description='Toggle', tooltip='Description')"
      ]
     },
     "metadata": {},
     "output_type": "display_data"
    }
   ],
   "source": [
    "# Construct the button to toggle observed data On/Off\n",
    "plot_button = widgets.ToggleButton(value = False, description = 'Toggle', disabled=False,\n",
    "                                    button_style='', tooltip='Description')\n",
    "\n",
    "# Display the button\n",
    "display(plot_button)"
   ]
  },
  {
   "cell_type": "markdown",
   "id": "7c455d2b",
   "metadata": {},
   "source": [
    "### Labels\n",
    "\n",
    "As mentioned above, I choose to not include the *description* argument within the slider, drop-down, or toggle objects. This is because it is common for these labels to get cut-off when displaying the widget object. \n",
    "\n",
    "For example, take a look at this slider below, with a long *description* argument: "
   ]
  },
  {
   "cell_type": "code",
   "execution_count": 23,
   "id": "5730dc18",
   "metadata": {},
   "outputs": [
    {
     "data": {
      "application/vnd.jupyter.widget-view+json": {
       "model_id": "ca8a2f0edf124823ba837aebc51e2696",
       "version_major": 2,
       "version_minor": 0
      },
      "text/plain": [
       "FloatSlider(value=2.0, description='This slider has a long label!', max=7.0)"
      ]
     },
     "metadata": {},
     "output_type": "display_data"
    }
   ],
   "source": [
    "# Make a slider with a long label\n",
    "long_title_slider = widgets.FloatSlider(value = 2.0, min = 0.0, max = 7.0, step = 0.1, \n",
    "                                        description = 'This slider has a long label!', readout = True)\n",
    "\n",
    "# Display: Notice how the label is cut-off!\n",
    "display(long_title_slider)"
   ]
  },
  {
   "cell_type": "markdown",
   "id": "640326c5",
   "metadata": {},
   "source": [
    "The ipywidgets.Label() function provides a way of avoiding this while allowing for long descriptions.  Using Label() will ultimately provide you with a lot more control over your widget layout (last section of the tutorial). \n",
    "\n",
    "The Label() function generates a separate object. Below, I create a unique Label() object for each HYMOD parameter."
   ]
  },
  {
   "cell_type": "code",
   "execution_count": 49,
   "id": "afc5dc65",
   "metadata": {},
   "outputs": [
    {
     "data": {
      "application/vnd.jupyter.widget-view+json": {
       "model_id": "8fb4549d9af7486b80cb6757d10ce51c",
       "version_major": 2,
       "version_minor": 0
      },
      "text/plain": [
       "Label(value='Kq : Quick flow reservoir rate constant (1/day)')"
      ]
     },
     "metadata": {},
     "output_type": "display_data"
    }
   ],
   "source": [
    "# Import the Label() function\n",
    "from ipywidgets import Label\n",
    "\n",
    "# Make a list of label strings\n",
    "param_labs = ['Kq : Quick flow reservoir rate constant (1/day)',\n",
    "            'Ks : Slow flow reservoir rate constant (1/day)',\n",
    "            'C_max : Maximum soil moisture storage (mm)',\n",
    "            'B : Distribution of soil stores',\n",
    "            'Alpha : Division between quick/slow routing',\n",
    "            'N : Number of quick-flow reservoirs']\n",
    "\n",
    "# Make a list of Label() objects\n",
    "list_of_labels = [Label(i) for i in param_labs]\n",
    "\n",
    "# Display the first label, for example.\n",
    "list_of_labels[0]"
   ]
  },
  {
   "cell_type": "markdown",
   "id": "bde7c2a5",
   "metadata": {},
   "source": [
    "### Interactive_output\n",
    "\n",
    "Now that we have constructed interactive \n",
    "\n",
    "The interactive_output function takes two inputs, the function to interact with, and a dictionary of variable assignments: \n",
    "\n",
    "> interactive_output( function, {'variable_name' : variable_widget, ...} )\n",
    "\n",
    "I have created a custome function _plot_HYMOD_results_ which: \n",
    "\n",
    "1. Loads 1-year of precipitation and evaporation data for the Leaf River catchment.\n",
    "2. Runs the HYMOD simulation using the provided parameter values.\n",
    "3. Calculates the error of the simulated vs. observed data.\n",
    "4. Plots the timeseries of runoff. \n",
    "\n",
    "The source code for this function can be found in the GitHub repository for this post, or specifically [here](https://github.com/TrevorJA/Ipywidget_Demo_Interactive_HYMOD/blob/main/HYMOD_plots.py). \n",
    "\n",
    "\n",
    "The function receives parameter values for each of the HYMOD parameters discussed above, a bool indicator if observed data should be plotted, and a specified error metric. \n",
    "\n",
    "> plot_HYMOD_results(C_max, B, Alpha, Ks, Kq, N_reservoirs, plot_observed = False, error_type = 'RMSE'):\n",
    "\n",
    "I have already generated widget components corresponding to each of these variables! (If you are on the Jupyter Notebook version of this post, make sure to have Run every cell before this, or else the following code wont work. \n",
    "\n",
    "I can now use the interactive_output function to *link* the widget components generated earlier with the function inputs:"
   ]
  },
  {
   "cell_type": "code",
   "execution_count": 37,
   "id": "feaa7020",
   "metadata": {},
   "outputs": [
    {
     "data": {
      "application/vnd.jupyter.widget-view+json": {
       "model_id": "11a9fb7ef99f41399ce51466865f5f50",
       "version_major": 2,
       "version_minor": 0
      },
      "text/plain": [
       "Output()"
      ]
     },
     "metadata": {},
     "output_type": "display_data"
    }
   ],
   "source": [
    "# Import the interactive_output function\n",
    "from ipywidgets import interactive_output\n",
    "\n",
    "# Import my custom plotting function\n",
    "from HYMOD_plots import plot_HYMOD_results\n",
    "\n",
    "result_comparison_plot = interactive_output(plot_HYMOD_results, {'C_max' : Cmax_slider, 'B': B_slider, 'Alpha':Alpha_slider, \n",
    "                                                                 'Ks':Ks_slider, 'Kq':Kq_slider,'N_reservoirs':N_slider, \n",
    "                                                                 'plot_observed' : plot_button,'error_type': drop_down})\n",
    "\n",
    "# Show the output\n",
    "result_comparison_plot"
   ]
  },
  {
   "cell_type": "markdown",
   "id": "8321b2e7",
   "metadata": {},
   "source": [
    "Displaying the interactive_output reveals only the plot, but does not include any of the widget functionality... \n",
    "\n",
    "Despite this, the plot is still *linked* to the widget components generated earlier.  If you don't believe me (and are reading the Jupyter Notebook version of this post), scroll up and click the ToggleButton a few cells up, then come back and look at the plot again.  \n",
    "\n",
    "Using the interactive_output() function, rather than other variations of the interact() functions available, allows for cleaner widgets to be produced, because now the arrangment of the widget components can be entirely customizable.  \n",
    "\n",
    "Keep reading for more detail on this!\n"
   ]
  },
  {
   "cell_type": "markdown",
   "id": "c51044a3",
   "metadata": {},
   "source": [
    "## Arranging widget components\n",
    "\n",
    "Rather than using widget features one-at-a-time, Ipywidgets allow for several widgets to be arranged in a unified layout. Think of everything that has been generated previously as being a cell within the a gridded widget; the best part is that each cell is *linked* with one another. \n",
    "\n",
    "Once the individual widget features (e.g., sliders, buttons, drop-downs, and output plots) are defined, they can be grouped using the **VBox()** (*vertical box*) and **HBox()** (*horizontal box*) functions. \n",
    "\n",
    "I've constructed a visual representation of my intended widget layout, shown below. The dashed orange boxes show those components grouped by the **HBox()** function, and the blue boxes show those grouped by the **VBox()** function.\n",
    "\n",
    "<img src = \"Widget_layout_schematic.jpg\" width = \"50%\">\n",
    "\n",
    "Before getting started, import some of the basic layout functions:"
   ]
  },
  {
   "cell_type": "code",
   "execution_count": 40,
   "id": "6e3fe548",
   "metadata": {},
   "outputs": [],
   "source": [
    "# Import the various \n",
    "from ipywidgets import HBox, VBox, Layout"
   ]
  },
  {
   "cell_type": "markdown",
   "id": "72695239",
   "metadata": {},
   "source": [
    "Before constructing the entire widget, it is good to get familiar with the basic **HBox()** and **VBox()** functionality.  \n",
    "\n",
    "Remember the list of sliders and list of labels that we created earlier? "
   ]
  },
  {
   "cell_type": "code",
   "execution_count": 41,
   "id": "f8cbe9f8",
   "metadata": {},
   "outputs": [
    {
     "data": {
      "application/vnd.jupyter.widget-view+json": {
       "model_id": "95427397a98e41d0920f51bbb24d68a9",
       "version_major": 2,
       "version_minor": 0
      },
      "text/plain": [
       "VBox(children=(Label(value='Kq : Quick flow reservoir rate constant (1/day)'), Label(value='Ks : Slow flow res…"
      ]
     },
     "metadata": {},
     "output_type": "display_data"
    }
   ],
   "source": [
    "# Stack the list of label objects vertically:\n",
    "VBox(list_of_labels)\n",
    "\n",
    "# Try the same thing with the sliders (remove comment #):\n",
    "#VBox(list_of_sliders)"
   ]
  },
  {
   "cell_type": "markdown",
   "id": "2408f20d",
   "metadata": {},
   "source": [
    "In the final widget, I want the column of labels to be located on the left of the column of sliders. **HBox()** allows for these two columns to be arrange next to one another:"
   ]
  },
  {
   "cell_type": "code",
   "execution_count": 42,
   "id": "5cf8dc31",
   "metadata": {},
   "outputs": [
    {
     "data": {
      "application/vnd.jupyter.widget-view+json": {
       "model_id": "d98c519d429d4619b1630b36fe9bbed0",
       "version_major": 2,
       "version_minor": 0
      },
      "text/plain": [
       "HBox(children=(VBox(children=(Label(value='Kq : Quick flow reservoir rate constant (1/day)'), Label(value='Ks …"
      ]
     },
     "metadata": {},
     "output_type": "display_data"
    }
   ],
   "source": [
    "# Putting the columns side-by-side\n",
    "HBox([VBox(list_of_labels), VBox(list_of_sliders)])"
   ]
  },
  {
   "cell_type": "markdown",
   "id": "2eec434b",
   "metadata": {},
   "source": [
    "### Generating the final widget\n",
    "\n",
    "Using the basic **HBox()** and **VBox()** functions shown above, I arrange all of the widget components I've defined previously.  I first define each row of the widget using **HBox()**, and finally stack the rows using **VBox()**.  \n",
    "\n",
    "The script below will complete the arrangement, and call the final widget!"
   ]
  },
  {
   "cell_type": "code",
   "execution_count": 43,
   "id": "e0cdd20b",
   "metadata": {},
   "outputs": [
    {
     "data": {
      "application/vnd.jupyter.widget-view+json": {
       "model_id": "e4f83d02378c4f3e86553983585fce8b",
       "version_major": 2,
       "version_minor": 0
      },
      "text/plain": [
       "VBox(children=(Label(value='Select parameter values for the HYMOD model:'), HBox(children=(VBox(children=(Labe…"
      ]
     },
     "metadata": {},
     "output_type": "display_data"
    }
   ],
   "source": [
    "# Define secifications for the widgets: center and wrap \n",
    "box_layout = widgets.Layout(display='flex', flex_flow = 'row', align_items ='center', justify_content = 'center')\n",
    "\n",
    "# Create the rows of the widets\n",
    "title_row = Label('Select parameter values for the HYMOD model:')\n",
    "slider_row = HBox([VBox(list_of_labels), VBox(list_of_sliders)], layout = box_layout)\n",
    "error_menu_row = HBox([Label('Choose error metric:'), drop_down], layout = box_layout)\n",
    "observed_toggle_row = HBox([Label('Click to show observed flow'), plot_button], layout = box_layout)\n",
    "plot_row = HBox([result_comparison_plot], layout = box_layout)\n",
    "\n",
    "\n",
    "# Combine label and slider box (row_one) with plot for the final widget\n",
    "HYMOD_widget = VBox([title_row, slider_row, plot_row, error_menu_row, observed_toggle_row])\n",
    "\n",
    "\n",
    "# Call the widget and have fun!\n",
    "HYMOD_widget"
   ]
  },
  {
   "cell_type": "markdown",
   "id": "0981a604",
   "metadata": {},
   "source": [
    "### Concluding remarks\n",
    "\n",
    "If you've made it this far, thank you for reading!\n",
    "\n",
    "I hope that you are able to find some fun/interesting/educational use for the Ipywidget skills learned in this post.  "
   ]
  },
  {
   "cell_type": "code",
   "execution_count": null,
   "id": "4ebd74db",
   "metadata": {},
   "outputs": [],
   "source": []
  }
 ],
 "metadata": {
  "kernelspec": {
   "display_name": "Python 3 (ipykernel)",
   "language": "python",
   "name": "python3"
  },
  "language_info": {
   "codemirror_mode": {
    "name": "ipython",
    "version": 3
   },
   "file_extension": ".py",
   "mimetype": "text/x-python",
   "name": "python",
   "nbconvert_exporter": "python",
   "pygments_lexer": "ipython3",
   "version": "3.8.8"
  }
 },
 "nbformat": 4,
 "nbformat_minor": 5
}
