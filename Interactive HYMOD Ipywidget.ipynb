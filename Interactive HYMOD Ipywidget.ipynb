{
 "cells": [
  {
   "cell_type": "markdown",
   "id": "80c315b4",
   "metadata": {},
   "source": [
    "# HYMOD Demonstration with interactive widget:\n",
    "\n",
    "This Jupyter Notebook is designed to highlight the use of the **Ipywidget** tools for educational and exploratory modeling. Here, a demonstration of the widget is provided.  \n",
    "\n",
    "All of the source code used to generate the widget is available in a GitHub repository: [my_link](https://github.com/TrevorJA).\n",
    "\n",
    "Before the this script will work, you will need to install **Ipywidgets** on your local machine. \n",
    "\n",
    "If you are using the **pip** package manager, install Ipywidgets from your local python terminal using:\n",
    "\n",
    "> pip install ipywidgets\n",
    "\n",
    "If you are using conda, enter:\n",
    "\n",
    ">conda install -c conda-forge ipywidgets"
   ]
  },
  {
   "cell_type": "code",
   "execution_count": null,
   "id": "62729f4f",
   "metadata": {},
   "outputs": [],
   "source": []
  },
  {
   "cell_type": "code",
   "execution_count": null,
   "id": "69f80dfc",
   "metadata": {},
   "outputs": [],
   "source": []
  },
  {
   "cell_type": "markdown",
   "id": "c51044a3",
   "metadata": {},
   "source": [
    "\n",
    "\n",
    "<p align=\"center\">\n",
    "    <img src=\" \" alt = \"Visual representation of widget layout.\" />\n",
    "</p>"
   ]
  },
  {
   "cell_type": "code",
   "execution_count": null,
   "id": "6e3fe548",
   "metadata": {},
   "outputs": [],
   "source": []
  },
  {
   "cell_type": "code",
   "execution_count": null,
   "id": "f8cbe9f8",
   "metadata": {},
   "outputs": [],
   "source": []
  },
  {
   "cell_type": "code",
   "execution_count": 1,
   "id": "05c7ce66",
   "metadata": {},
   "outputs": [
    {
     "data": {
      "application/vnd.jupyter.widget-view+json": {
       "model_id": "b2d3828e4bb44b79930dbd99d9e74d55",
       "version_major": 2,
       "version_minor": 0
      },
      "text/plain": [
       "VBox(children=(Label(value='Select parameter values for the HYMOD model:'), HBox(children=(VBox(children=(Labe…"
      ]
     },
     "metadata": {},
     "output_type": "display_data"
    }
   ],
   "source": [
    "from generate_HYMOD_widget import make_HYMOD_widget\n",
    "HYMOD_widget = make_HYMOD_widget()\n",
    "HYMOD_widget"
   ]
  },
  {
   "cell_type": "code",
   "execution_count": null,
   "id": "5cf8dc31",
   "metadata": {},
   "outputs": [],
   "source": []
  }
 ],
 "metadata": {
  "kernelspec": {
   "display_name": "Python 3 (ipykernel)",
   "language": "python",
   "name": "python3"
  },
  "language_info": {
   "codemirror_mode": {
    "name": "ipython",
    "version": 3
   },
   "file_extension": ".py",
   "mimetype": "text/x-python",
   "name": "python",
   "nbconvert_exporter": "python",
   "pygments_lexer": "ipython3",
   "version": "3.8.8"
  }
 },
 "nbformat": 4,
 "nbformat_minor": 5
}
